{
 "cells": [
  {
   "cell_type": "code",
   "execution_count": 3,
   "id": "62793693",
   "metadata": {},
   "outputs": [],
   "source": [
    "import numpy as np\n",
    "import pandas as pd\n",
    "import keras\n",
    "import tensorflow as tf\n",
    "from keras.models import Sequential\n",
    "from keras.layers import Conv2D, MaxPooling2D, Flatten, Dense\n",
    "import visualkeras\n",
    "from keras_visualizer import visualizer\n",
    "from utils.utils import *"
   ]
  },
  {
   "cell_type": "code",
   "execution_count": 5,
   "id": "3913b810",
   "metadata": {},
   "outputs": [],
   "source": [
    "train_idxs = read_indexes('./utils/train.txt')\n",
    "validation_idxs =  read_indexes('./utils/validation.txt')\n",
    "test_idxs = read_indexes('./utils/test.txt')"
   ]
  },
  {
   "cell_type": "code",
   "execution_count": 6,
   "id": "96ab8754",
   "metadata": {},
   "outputs": [],
   "source": [
    "data_indexes = [(i+1,j+1) for i in range(5) for j in range(2000)]\n",
    "parameters = load_parameter_list()\n",
    "df_parameters = pd.DataFrame(parameters, columns=['cx', 'cy', 'a', 'b', 'theta', 'e1', 'e2'])\n",
    "df_parameters['data_index'] = data_indexes\n",
    "\n",
    "y_train = df_parameters[df_parameters['data_index'].isin(train_idxs)].drop('data_index', axis = 1)\n",
    "y_validation = df_parameters[df_parameters['data_index'].isin(validation_idxs)].drop('data_index', axis = 1)\n",
    "y_test = df_parameters[df_parameters['data_index'].isin(test_idxs)].drop('data_index', axis = 1)"
   ]
  },
  {
   "cell_type": "code",
   "execution_count": 7,
   "id": "b2ea867d",
   "metadata": {},
   "outputs": [
    {
     "name": "stdout",
     "output_type": "stream",
     "text": [
      "Time taken: 170.374330 seconds\n"
     ]
    }
   ],
   "source": [
    "import time\n",
    "\n",
    "start = time.perf_counter()\n",
    "\n",
    "X_train = np.array(load_data(train_idxs))\n",
    "X_validation = np.array(load_data(validation_idxs))\n",
    "X_test = np.array(load_data(test_idxs))\n",
    "\n",
    "end = time.perf_counter()\n",
    "elapsed = end - start\n",
    "print(f'Time taken: {elapsed:.6f} seconds')"
   ]
  },
  {
   "cell_type": "code",
   "execution_count": 8,
   "id": "ee2d7025",
   "metadata": {},
   "outputs": [
    {
     "name": "stdout",
     "output_type": "stream",
     "text": [
      "(4240, 4400, 17)\n",
      "(4240, 7)\n"
     ]
    }
   ],
   "source": [
    "print(X_train.shape)\n",
    "print(y_train.shape)"
   ]
  },
  {
   "cell_type": "markdown",
   "id": "3431f2d2",
   "metadata": {},
   "source": [
    "## Feedforward model"
   ]
  },
  {
   "cell_type": "code",
   "execution_count": 33,
   "id": "7f224b65",
   "metadata": {},
   "outputs": [
    {
     "name": "stdout",
     "output_type": "stream",
     "text": [
      "Model: \"sequential_3\"\n",
      "_________________________________________________________________\n",
      " Layer (type)                Output Shape              Param #   \n",
      "=================================================================\n",
      " flatten_3 (Flatten)         (None, 74800)             0         \n",
      "                                                                 \n",
      " dense_12 (Dense)            (None, 1024)              76596224  \n",
      "                                                                 \n",
      " dense_13 (Dense)            (None, 256)               262400    \n",
      "                                                                 \n",
      " dense_14 (Dense)            (None, 64)                16448     \n",
      "                                                                 \n",
      " dense_15 (Dense)            (None, 7)                 455       \n",
      "                                                                 \n",
      "=================================================================\n",
      "Total params: 76875527 (293.26 MB)\n",
      "Trainable params: 76875527 (293.26 MB)\n",
      "Non-trainable params: 0 (0.00 Byte)\n",
      "_________________________________________________________________\n"
     ]
    },
    {
     "data": {
      "image/png": "[encoded data removed]",
      "text/plain": [
       "<PIL.Image.Image image mode=RGBA size=635x27>"
      ]
     },
     "execution_count": 33,
     "metadata": {},
     "output_type": "execute_result"
    }
   ],
   "source": [
    "# Define the model\n",
    "feedforward = tf.keras.Sequential([\n",
    "    tf.keras.layers.Flatten(input_shape=(4400, 17)),\n",
    "    tf.keras.layers.Dense(1024, activation='relu'),\n",
    "    tf.keras.layers.Dense(256, activation='relu'),\n",
    "    tf.keras.layers.Dense(64, activation='relu'),\n",
    "    tf.keras.layers.Dense(7)\n",
    "])\n",
    "\n",
    "feedforward.compile(optimizer='adam', loss='mse', metrics=['mae'])\n",
    "feedforward.summary()\n",
    "visualkeras.layered_view(feedforward, to_file='./figures/feedforward.png') # write and show\n",
    "#visualizer(feedforward, view=True).show()"
   ]
  },
  {
   "cell_type": "code",
   "execution_count": 35,
   "id": "9b3f2374",
   "metadata": {},
   "outputs": [
    {
     "name": "stderr",
     "output_type": "stream",
     "text": [
      "C:\\Users\\adria\\AppData\\Roaming\\Python\\Python311\\site-packages\\tensorflow\\python\\framework\\constant_op.py:103: RuntimeWarning: overflow encountered in cast\n",
      "  return ops.EagerTensor(value, ctx.device_name, dtype)\n"
     ]
    },
    {
     "name": "stdout",
     "output_type": "stream",
     "text": [
      "Epoch 1/2\n",
      "133/133 [==============================] - 83s 624ms/step - loss: 1.4505 - mae: 0.8316\n",
      "Epoch 2/2\n",
      "133/133 [==============================] - 83s 623ms/step - loss: 1.4511 - mae: 0.8317\n"
     ]
    }
   ],
   "source": [
    "# Train the model\n",
    "history = feedforward.fit(X_train, y_train, epochs=2, verbose = 1)\n",
    "\n",
    "# Evaluate the model\n",
    "#loss, mae = feedforward.evaluate(X_test, y_test)"
   ]
  },
  {
   "cell_type": "code",
   "execution_count": null,
   "id": "744b6124",
   "metadata": {},
   "outputs": [],
   "source": []
  },
  {
   "cell_type": "code",
   "execution_count": 29,
   "id": "59b19e15",
   "metadata": {},
   "outputs": [
    {
     "name": "stdout",
     "output_type": "stream",
     "text": [
      "Model: \"sequential_22\"\n",
      "_________________________________________________________________\n",
      " Layer (type)                Output Shape              Param #   \n",
      "=================================================================\n",
      " conv2d_15 (Conv2D)          (None, 4398, 15, 32)      320       \n",
      "                                                                 \n",
      " max_pooling2d_15 (MaxPooli  (None, 2199, 7, 32)       0         \n",
      " ng2D)                                                           \n",
      "                                                                 \n",
      " conv2d_16 (Conv2D)          (None, 2197, 5, 64)       18496     \n",
      "                                                                 \n",
      " max_pooling2d_16 (MaxPooli  (None, 549, 5, 64)        0         \n",
      " ng2D)                                                           \n",
      "                                                                 \n",
      " conv2d_17 (Conv2D)          (None, 547, 3, 128)       73856     \n",
      "                                                                 \n",
      " max_pooling2d_17 (MaxPooli  (None, 136, 3, 128)       0         \n",
      " ng2D)                                                           \n",
      "                                                                 \n",
      " flatten_17 (Flatten)        (None, 52224)             0         \n",
      "                                                                 \n",
      " dense_68 (Dense)            (None, 1024)              53478400  \n",
      "                                                                 \n",
      " dense_69 (Dense)            (None, 258)               264450    \n",
      "                                                                 \n",
      " dense_70 (Dense)            (None, 7)                 1813      \n",
      "                                                                 \n",
      "=================================================================\n",
      "Total params: 53837335 (205.37 MB)\n",
      "Trainable params: 53837335 (205.37 MB)\n",
      "Non-trainable params: 0 (0.00 Byte)\n",
      "_________________________________________________________________\n"
     ]
    }
   ],
   "source": [
    "./figures/cnn = Sequential()\n",
    "cnn.add(Conv2D(32, (3, 3), activation='relu', input_shape=(4400, 17, 1)))\n",
    "cnn.add(MaxPooling2D((2, 2)))\n",
    "cnn.add(Conv2D(64, (3, 3), activation='relu'))\n",
    "cnn.add(MaxPooling2D((4, 1)))\n",
    "cnn.add(Conv2D(128, (3, 3), activation='relu'))\n",
    "cnn.add(MaxPooling2D((4, 1)))\n",
    "cnn.add(Flatten())\n",
    "cnn.add(Dense(1024, activation='relu'))\n",
    "cnn.add(Dense(256, activation='relu'))\n",
    "cnn.add(Dense(7, activation='linear'))\n",
    "cnn.compile(optimizer='adam', loss='mse', metrics=['mae'])\n",
    "cnn.summary()\n",
    "visualkeras.layered_view(cnn, legend = True, to_file='./figures/cnn.png').show() # write and show"
   ]
  },
  {
   "cell_type": "code",
   "execution_count": 34,
   "id": "7d01087f",
   "metadata": {},
   "outputs": [
    {
     "name": "stdout",
     "output_type": "stream",
     "text": [
      "Model: \"sequential_27\"\n",
      "_________________________________________________________________\n",
      " Layer (type)                Output Shape              Param #   \n",
      "=================================================================\n",
      " simple_rnn_8 (SimpleRNN)    (None, 512)               271360    \n",
      "                                                                 \n",
      " dense_79 (Dense)            (None, 128)               65664     \n",
      "                                                                 \n",
      " dense_80 (Dense)            (None, 7)                 903       \n",
      "                                                                 \n",
      "=================================================================\n",
      "Total params: 337927 (1.29 MB)\n",
      "Trainable params: 337927 (1.29 MB)\n",
      "Non-trainable params: 0 (0.00 Byte)\n",
      "_________________________________________________________________\n"
     ]
    }
   ],
   "source": [
    "rnn = tf.keras.Sequential()\n",
    "rnn.add(tf.keras.layers.SimpleRNN(512, input_shape=(4400, 17)))\n",
    "rnn.add(tf.keras.layers.Dense(128, activation='relu'))\n",
    "rnn.add(tf.keras.layers.Dense(7, activation='linear'))  # Assuming 7 output neurons for numerical prediction\n",
    "rnn.compile(optimizer='adam', loss='mse', metrics=['mae'])  # Using mean squared error as the loss\n",
    "rnn.summary()\n",
    "visualkeras.layered_view(rnn, legend = True, to_file='./figures/rnn.png').show() # write and show"
   ]
  },
  {
   "cell_type": "code",
   "execution_count": 35,
   "id": "25065e6f",
   "metadata": {},
   "outputs": [
    {
     "name": "stdout",
     "output_type": "stream",
     "text": [
      "Model: \"sequential_28\"\n",
      "_________________________________________________________________\n",
      " Layer (type)                Output Shape              Param #   \n",
      "=================================================================\n",
      " lstm_3 (LSTM)               (None, 512)               1085440   \n",
      "                                                                 \n",
      " dense_81 (Dense)            (None, 128)               65664     \n",
      "                                                                 \n",
      " dense_82 (Dense)            (None, 7)                 903       \n",
      "                                                                 \n",
      "=================================================================\n",
      "Total params: 1152007 (4.39 MB)\n",
      "Trainable params: 1152007 (4.39 MB)\n",
      "Non-trainable params: 0 (0.00 Byte)\n",
      "_________________________________________________________________\n"
     ]
    }
   ],
   "source": [
    "rnn_lstm = tf.keras.Sequential()\n",
    "rnn_lstm.add(tf.keras.layers.LSTM(512, input_shape=(4400, 17)))\n",
    "rnn_lstm.add(tf.keras.layers.Dense(128, activation='relu'))\n",
    "rnn_lstm.add(tf.keras.layers.Dense(7, activation='linear'))\n",
    "rnn_lstm.compile(optimizer='adam', loss='mse', metrics=['mae'])\n",
    "rnn_lstm.summary()\n",
    "visualkeras.layered_view(rnn_lstm, legend = True, to_file='./figures/rnn_lstm.png').show() # write and show"
   ]
  },
  {
   "cell_type": "code",
   "execution_count": null,
   "id": "5cdec39d",
   "metadata": {},
   "outputs": [],
   "source": []
  },
  {
   "cell_type": "code",
   "execution_count": null,
   "id": "c0b59728",
   "metadata": {},
   "outputs": [],
   "source": []
  }
 ],
 "metadata": {
  "kernelspec": {
   "display_name": "Python 3 (ipykernel)",
   "language": "python",
   "name": "python3"
  },
  "language_info": {
   "codemirror_mode": {
    "name": "ipython",
    "version": 3
   },
   "file_extension": ".py",
   "mimetype": "text/x-python",
   "name": "python",
   "nbconvert_exporter": "python",
   "pygments_lexer": "ipython3",
   "version": "3.11.4"
  }
 },
 "nbformat": 4,
 "nbformat_minor": 5
}
