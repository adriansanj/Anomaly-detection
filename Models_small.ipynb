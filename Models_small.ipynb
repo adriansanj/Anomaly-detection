{
 "cells": [
  {
   "cell_type": "code",
   "execution_count": 3,
   "id": "a28c1438",
   "metadata": {},
   "outputs": [
    {
     "name": "stdout",
     "output_type": "stream",
     "text": [
      "WARNING:tensorflow:From C:\\Users\\adria\\AppData\\Roaming\\Python\\Python311\\site-packages\\keras\\src\\losses.py:2976: The name tf.losses.sparse_softmax_cross_entropy is deprecated. Please use tf.compat.v1.losses.sparse_softmax_cross_entropy instead.\n",
      "\n"
     ]
    }
   ],
   "source": [
    "import numpy as np\n",
    "import pandas as pd\n",
    "import keras\n",
    "import tensorflow as tf\n",
    "from keras.models import Sequential\n",
    "from tensorflow.keras import Model\n",
    "from tensorflow.keras.optimizers import RMSprop\n",
    "from keras.layers import Conv2D, MaxPooling2D, Flatten, Dense, Dropout, Input, SimpleRNN, LSTM, Input, BatchNormalization\n",
    "from tensorflow.keras.callbacks import EarlyStopping\n",
    "import visualkeras\n",
    "from utils.utils import *"
   ]
  },
  {
   "cell_type": "code",
   "execution_count": 4,
   "id": "e8256faf",
   "metadata": {},
   "outputs": [],
   "source": [
    "train_idxs = read_indexes('./utils/train.txt')\n",
    "validation_idxs =  read_indexes('./utils/validation.txt')\n",
    "test_idxs = read_indexes('./utils/test.txt')"
   ]
  },
  {
   "cell_type": "code",
   "execution_count": 5,
   "id": "4a7d48c9",
   "metadata": {},
   "outputs": [],
   "source": [
    "data_indexes = [(i+1,j+1) for i in range(5) for j in range(2000)]\n",
    "parameters = load_parameter_list()\n",
    "df_parameters = pd.DataFrame(parameters, columns=['cx', 'cy', 'a', 'b', 'theta', 'e1', 'e2'])\n",
    "df_parameters['data_index'] = data_indexes\n",
    "\n",
    "y_train = df_parameters[df_parameters['data_index'].isin(train_idxs)].drop('data_index', axis = 1)\n",
    "y_validation = df_parameters[df_parameters['data_index'].isin(validation_idxs)].drop('data_index', axis = 1)\n",
    "y_test = df_parameters[df_parameters['data_index'].isin(test_idxs)].drop('data_index', axis = 1)"
   ]
  },
  {
   "cell_type": "code",
   "execution_count": 20,
   "id": "f0824c28-f062-4418-86ab-c94b01d218a5",
   "metadata": {},
   "outputs": [
    {
     "data": {
      "text/html": [
       "<div>\n",
       "<style scoped>\n",
       "    .dataframe tbody tr th:only-of-type {\n",
       "        vertical-align: middle;\n",
       "    }\n",
       "\n",
       "    .dataframe tbody tr th {\n",
       "        vertical-align: top;\n",
       "    }\n",
       "\n",
       "    .dataframe thead th {\n",
       "        text-align: right;\n",
       "    }\n",
       "</style>\n",
       "<table border=\"1\" class=\"dataframe\">\n",
       "  <thead>\n",
       "    <tr style=\"text-align: right;\">\n",
       "      <th></th>\n",
       "      <th>cx</th>\n",
       "      <th>cy</th>\n",
       "      <th>a</th>\n",
       "      <th>b</th>\n",
       "      <th>theta</th>\n",
       "      <th>e1</th>\n",
       "      <th>e2</th>\n",
       "    </tr>\n",
       "  </thead>\n",
       "  <tbody>\n",
       "    <tr>\n",
       "      <th>0</th>\n",
       "      <td>-0.707487</td>\n",
       "      <td>4.217239</td>\n",
       "      <td>2.152750</td>\n",
       "      <td>0.745700</td>\n",
       "      <td>0.527199</td>\n",
       "      <td>3.553770</td>\n",
       "      <td>2.882795</td>\n",
       "    </tr>\n",
       "    <tr>\n",
       "      <th>3</th>\n",
       "      <td>-0.033557</td>\n",
       "      <td>1.497364</td>\n",
       "      <td>1.681813</td>\n",
       "      <td>0.767738</td>\n",
       "      <td>0.193667</td>\n",
       "      <td>2.030458</td>\n",
       "      <td>0.409182</td>\n",
       "    </tr>\n",
       "    <tr>\n",
       "      <th>7</th>\n",
       "      <td>0.807062</td>\n",
       "      <td>3.635175</td>\n",
       "      <td>1.364334</td>\n",
       "      <td>0.584842</td>\n",
       "      <td>-0.097724</td>\n",
       "      <td>1.775325</td>\n",
       "      <td>3.669727</td>\n",
       "    </tr>\n",
       "    <tr>\n",
       "      <th>8</th>\n",
       "      <td>-1.006160</td>\n",
       "      <td>3.055372</td>\n",
       "      <td>0.889733</td>\n",
       "      <td>0.595210</td>\n",
       "      <td>0.117413</td>\n",
       "      <td>2.986844</td>\n",
       "      <td>6.359471</td>\n",
       "    </tr>\n",
       "    <tr>\n",
       "      <th>9</th>\n",
       "      <td>-1.065056</td>\n",
       "      <td>3.415461</td>\n",
       "      <td>2.134161</td>\n",
       "      <td>0.469542</td>\n",
       "      <td>0.213083</td>\n",
       "      <td>0.631662</td>\n",
       "      <td>4.245931</td>\n",
       "    </tr>\n",
       "    <tr>\n",
       "      <th>...</th>\n",
       "      <td>...</td>\n",
       "      <td>...</td>\n",
       "      <td>...</td>\n",
       "      <td>...</td>\n",
       "      <td>...</td>\n",
       "      <td>...</td>\n",
       "      <td>...</td>\n",
       "    </tr>\n",
       "    <tr>\n",
       "      <th>9985</th>\n",
       "      <td>1.086057</td>\n",
       "      <td>2.658060</td>\n",
       "      <td>1.366633</td>\n",
       "      <td>0.270978</td>\n",
       "      <td>0.171611</td>\n",
       "      <td>1.200613</td>\n",
       "      <td>1.177018</td>\n",
       "    </tr>\n",
       "    <tr>\n",
       "      <th>9987</th>\n",
       "      <td>0.757753</td>\n",
       "      <td>4.860306</td>\n",
       "      <td>1.038583</td>\n",
       "      <td>0.910046</td>\n",
       "      <td>0.242614</td>\n",
       "      <td>3.687656</td>\n",
       "      <td>0.704631</td>\n",
       "    </tr>\n",
       "    <tr>\n",
       "      <th>9993</th>\n",
       "      <td>1.551056</td>\n",
       "      <td>2.814092</td>\n",
       "      <td>1.759765</td>\n",
       "      <td>1.496809</td>\n",
       "      <td>-0.301669</td>\n",
       "      <td>1.687119</td>\n",
       "      <td>5.385693</td>\n",
       "    </tr>\n",
       "    <tr>\n",
       "      <th>9996</th>\n",
       "      <td>-2.163828</td>\n",
       "      <td>5.903978</td>\n",
       "      <td>2.049204</td>\n",
       "      <td>0.388988</td>\n",
       "      <td>0.380152</td>\n",
       "      <td>1.848904</td>\n",
       "      <td>3.822509</td>\n",
       "    </tr>\n",
       "    <tr>\n",
       "      <th>9997</th>\n",
       "      <td>-0.323733</td>\n",
       "      <td>4.441193</td>\n",
       "      <td>1.784857</td>\n",
       "      <td>1.101859</td>\n",
       "      <td>-0.346167</td>\n",
       "      <td>1.564475</td>\n",
       "      <td>6.735615</td>\n",
       "    </tr>\n",
       "  </tbody>\n",
       "</table>\n",
       "<p>4227 rows × 7 columns</p>\n",
       "</div>"
      ],
      "text/plain": [
       "            cx        cy         a         b     theta        e1        e2\n",
       "0    -0.707487  4.217239  2.152750  0.745700  0.527199  3.553770  2.882795\n",
       "3    -0.033557  1.497364  1.681813  0.767738  0.193667  2.030458  0.409182\n",
       "7     0.807062  3.635175  1.364334  0.584842 -0.097724  1.775325  3.669727\n",
       "8    -1.006160  3.055372  0.889733  0.595210  0.117413  2.986844  6.359471\n",
       "9    -1.065056  3.415461  2.134161  0.469542  0.213083  0.631662  4.245931\n",
       "...        ...       ...       ...       ...       ...       ...       ...\n",
       "9985  1.086057  2.658060  1.366633  0.270978  0.171611  1.200613  1.177018\n",
       "9987  0.757753  4.860306  1.038583  0.910046  0.242614  3.687656  0.704631\n",
       "9993  1.551056  2.814092  1.759765  1.496809 -0.301669  1.687119  5.385693\n",
       "9996 -2.163828  5.903978  2.049204  0.388988  0.380152  1.848904  3.822509\n",
       "9997 -0.323733  4.441193  1.784857  1.101859 -0.346167  1.564475  6.735615\n",
       "\n",
       "[4227 rows x 7 columns]"
      ]
     },
     "execution_count": 20,
     "metadata": {},
     "output_type": "execute_result"
    }
   ],
   "source": [
    "y_train"
   ]
  },
  {
   "cell_type": "code",
   "execution_count": 23,
   "id": "69cd2e69",
   "metadata": {
    "scrolled": true
   },
   "outputs": [
    {
     "name": "stdout",
     "output_type": "stream",
     "text": [
      "train loaded\n",
      "validation loaded\n",
      "test loaded\n"
     ]
    }
   ],
   "source": [
    "X_train = np.array(load_data(train_idxs, small = True))\n",
    "print('train loaded')\n",
    "X_validation = np.array(load_data(validation_idxs, small = True))\n",
    "print('validation loaded')\n",
    "X_test = np.array(load_data(test_idxs, small = True))\n",
    "print('test loaded')"
   ]
  },
  {
   "cell_type": "code",
   "execution_count": 15,
   "id": "b0a027f4-7f59-467d-a250-b21e2d517b9a",
   "metadata": {},
   "outputs": [],
   "source": [
    "mean = np.mean(X_train.flatten())\n",
    "std = np.std(X_train.flatten())"
   ]
  },
  {
   "cell_type": "code",
   "execution_count": 16,
   "id": "ac0f1004-4f10-4b7d-ae04-ec35037f15fa",
   "metadata": {},
   "outputs": [
    {
     "data": {
      "text/plain": [
       "(0.0028952856924112018, 0.01585630079850641)"
      ]
     },
     "execution_count": 16,
     "metadata": {},
     "output_type": "execute_result"
    }
   ],
   "source": [
    "mean, std"
   ]
  },
  {
   "cell_type": "code",
   "execution_count": 17,
   "id": "d658d559-ea50-4821-b931-efa89873287a",
   "metadata": {},
   "outputs": [],
   "source": [
    "X_train_norm = (X_train-mean)/std\n",
    "X_validation_norm = (X_validation-mean)/std\n",
    "X_test_norm = (X_test-mean)/std"
   ]
  },
  {
   "cell_type": "markdown",
   "id": "7c00ac88",
   "metadata": {},
   "source": [
    "# Feedforward model"
   ]
  },
  {
   "cell_type": "code",
   "execution_count": 40,
   "id": "655b6315",
   "metadata": {
    "scrolled": true
   },
   "outputs": [
    {
     "name": "stdout",
     "output_type": "stream",
     "text": [
      "Model: \"sequential_3\"\n",
      "_________________________________________________________________\n",
      " Layer (type)                Output Shape              Param #   \n",
      "=================================================================\n",
      " flatten_3 (Flatten)         (None, 7480)              0         \n",
      "                                                                 \n",
      " dense_16 (Dense)            (None, 1024)              7660544   \n",
      "                                                                 \n",
      " dense_17 (Dense)            (None, 512)               524800    \n",
      "                                                                 \n",
      " dense_18 (Dense)            (None, 256)               131328    \n",
      "                                                                 \n",
      " dense_19 (Dense)            (None, 128)               32896     \n",
      "                                                                 \n",
      " dense_20 (Dense)            (None, 64)                8256      \n",
      "                                                                 \n",
      " dense_21 (Dense)            (None, 7)                 455       \n",
      "                                                                 \n",
      "=================================================================\n",
      "Total params: 8358279 (31.88 MB)\n",
      "Trainable params: 8358279 (31.88 MB)\n",
      "Non-trainable params: 0 (0.00 Byte)\n",
      "_________________________________________________________________\n"
     ]
    }
   ],
   "source": [
    "# Feedforward model\n",
    "feedforward = tf.keras.Sequential([\n",
    "    Input(shape=(440, 17)),\n",
    "    Flatten(),  \n",
    "    Dense(1024, activation='relu'),\n",
    "    Dense(512, activation='relu'),\n",
    "    Dense(256, activation='relu'),\n",
    "    Dense(128, activation='relu'),\n",
    "    Dense(64, activation='relu'), \n",
    "    Dense(7)                         \n",
    "])\n",
    "\n",
    "feedforward.compile(optimizer='adam', loss='mse', metrics=['mae', 'mse'])\n",
    "feedforward.summary()"
   ]
  },
  {
   "cell_type": "code",
   "execution_count": 41,
   "id": "55ae46d6",
   "metadata": {},
   "outputs": [
    {
     "name": "stdout",
     "output_type": "stream",
     "text": [
      "Epoch 1/40\n",
      "133/133 [==============================] - 11s 77ms/step - loss: 1.5758 - mae: 0.8517 - mse: 1.5758 - val_loss: 1.2417 - val_mae: 0.7397 - val_mse: 1.2417\n",
      "Epoch 2/40\n",
      "133/133 [==============================] - 9s 71ms/step - loss: 1.1275 - mae: 0.7034 - mse: 1.1275 - val_loss: 1.0557 - val_mae: 0.6572 - val_mse: 1.0557\n",
      "Epoch 3/40\n",
      "133/133 [==============================] - 10s 72ms/step - loss: 1.0300 - mae: 0.6534 - mse: 1.0300 - val_loss: 1.1063 - val_mae: 0.6451 - val_mse: 1.1063\n",
      "Epoch 4/40\n",
      "133/133 [==============================] - 9s 71ms/step - loss: 0.9558 - mae: 0.6200 - mse: 0.9558 - val_loss: 0.9226 - val_mae: 0.5950 - val_mse: 0.9226\n",
      "Epoch 5/40\n",
      "133/133 [==============================] - 10s 72ms/step - loss: 0.8650 - mae: 0.5847 - mse: 0.8650 - val_loss: 0.9736 - val_mae: 0.6152 - val_mse: 0.9736\n",
      "Epoch 6/40\n",
      "133/133 [==============================] - 10s 72ms/step - loss: 0.8797 - mae: 0.5911 - mse: 0.8797 - val_loss: 0.8558 - val_mae: 0.5498 - val_mse: 0.8558\n",
      "Epoch 7/40\n",
      "133/133 [==============================] - 9s 71ms/step - loss: 0.8206 - mae: 0.5630 - mse: 0.8206 - val_loss: 0.8561 - val_mae: 0.5615 - val_mse: 0.8561\n",
      "Epoch 8/40\n",
      "133/133 [==============================] - 10s 72ms/step - loss: 0.7791 - mae: 0.5434 - mse: 0.7791 - val_loss: 0.8054 - val_mae: 0.5355 - val_mse: 0.8054\n",
      "Epoch 9/40\n",
      "133/133 [==============================] - 10s 72ms/step - loss: 0.7712 - mae: 0.5364 - mse: 0.7712 - val_loss: 0.9863 - val_mae: 0.5551 - val_mse: 0.9863\n",
      "Epoch 10/40\n",
      "133/133 [==============================] - 10s 72ms/step - loss: 0.7399 - mae: 0.5257 - mse: 0.7399 - val_loss: 0.7909 - val_mae: 0.5194 - val_mse: 0.7909\n",
      "Epoch 11/40\n",
      "133/133 [==============================] - 10s 71ms/step - loss: 0.7366 - mae: 0.5262 - mse: 0.7366 - val_loss: 0.7667 - val_mae: 0.5469 - val_mse: 0.7667\n",
      "Epoch 12/40\n",
      "133/133 [==============================] - 10s 72ms/step - loss: 0.7189 - mae: 0.5174 - mse: 0.7189 - val_loss: 0.7369 - val_mae: 0.5043 - val_mse: 0.7369\n",
      "Epoch 13/40\n",
      "133/133 [==============================] - 10s 72ms/step - loss: 0.7103 - mae: 0.5143 - mse: 0.7103 - val_loss: 0.7155 - val_mae: 0.5027 - val_mse: 0.7155\n",
      "Epoch 14/40\n",
      "133/133 [==============================] - 9s 71ms/step - loss: 0.6774 - mae: 0.4982 - mse: 0.6774 - val_loss: 0.6960 - val_mae: 0.4871 - val_mse: 0.6960\n",
      "Epoch 15/40\n",
      "133/133 [==============================] - 10s 72ms/step - loss: 0.6797 - mae: 0.5026 - mse: 0.6797 - val_loss: 0.7739 - val_mae: 0.5198 - val_mse: 0.7739\n",
      "Epoch 16/40\n",
      "133/133 [==============================] - 10s 72ms/step - loss: 0.6846 - mae: 0.5067 - mse: 0.6846 - val_loss: 0.7506 - val_mae: 0.5158 - val_mse: 0.7506\n",
      "Epoch 17/40\n",
      "133/133 [==============================] - 10s 72ms/step - loss: 0.6920 - mae: 0.5077 - mse: 0.6920 - val_loss: 0.8097 - val_mae: 0.5521 - val_mse: 0.8097\n",
      "Epoch 18/40\n",
      "133/133 [==============================] - 10s 72ms/step - loss: 0.6484 - mae: 0.4874 - mse: 0.6484 - val_loss: 0.7213 - val_mae: 0.5105 - val_mse: 0.7213\n",
      "Epoch 19/40\n",
      "133/133 [==============================] - ETA: 0s - loss: 0.6489 - mae: 0.4897 - mse: 0.6489Restoring model weights from the end of the best epoch: 14.\n",
      "133/133 [==============================] - 10s 72ms/step - loss: 0.6489 - mae: 0.4897 - mse: 0.6489 - val_loss: 0.7153 - val_mae: 0.5113 - val_mse: 0.7153\n",
      "Epoch 19: early stopping\n"
     ]
    }
   ],
   "source": [
    "# Train the model\n",
    "early_stopping = EarlyStopping(monitor='val_loss', patience=5, verbose=1, restore_best_weights=True)\n",
    "history = feedforward.fit(X_train, y_train, validation_data=(X_validation, y_validation), epochs=40, verbose = 1, callbacks=[early_stopping])"
   ]
  },
  {
   "cell_type": "code",
   "execution_count": 43,
   "id": "8c2b5c74-3647-4f3c-95f9-1cc3d2428c0e",
   "metadata": {},
   "outputs": [
    {
     "data": {
      "image/png": "[encoded data removed]",
      "text/plain": [
       "<Figure size 640x480 with 1 Axes>"
      ]
     },
     "metadata": {},
     "output_type": "display_data"
    }
   ],
   "source": [
    "plot_metrics(history, 'loss')"
   ]
  },
  {
   "cell_type": "code",
   "execution_count": 44,
   "id": "011fd26c-ef31-4900-b680-228be734f661",
   "metadata": {},
   "outputs": [
    {
     "name": "stdout",
     "output_type": "stream",
     "text": [
      "45/45 [==============================] - 0s 4ms/step - loss: 0.6624 - mae: 0.4776 - mse: 0.6624\n",
      "Test mae: 0.4775702655315399\n",
      "Test mse: 0.6623666882514954\n",
      "1/1 [==============================] - 0s 82ms/step\n",
      "\n",
      "\n",
      "Random prediction examples\n",
      "Parameters:\tcx\tcy\ta\tb\ttheta\te1\te2\n",
      "------------\n",
      "real:\t\t 3.027\t4.346\t1.127\t0.023\t0.439\t0.547\t4.861\n",
      "prediction:\t 1.010\t3.915\t0.902\t0.120\t0.204\t1.622\t3.693\n",
      "------------\n",
      "real:\t\t 1.602\t3.656\t1.499\t1.258\t0.247\t0.094\t2.505\n",
      "prediction:\t 1.577\t3.637\t1.575\t1.018\t0.096\t-0.013\t2.462\n",
      "------------\n",
      "real:\t\t -0.122\t2.202\t0.987\t0.386\t-0.128\t4.719\t7.439\n",
      "prediction:\t -0.194\t2.275\t1.162\t0.333\t0.135\t4.380\t4.434\n",
      "------------\n",
      "real:\t\t 0.084\t2.420\t1.237\t0.047\t-0.064\t4.162\t3.578\n",
      "prediction:\t 0.377\t2.452\t1.029\t0.199\t0.126\t3.099\t2.951\n",
      "------------\n",
      "real:\t\t 1.553\t2.920\t0.866\t0.105\t0.273\t0.830\t3.094\n",
      "prediction:\t 1.298\t3.507\t0.954\t0.163\t0.190\t1.368\t4.224\n"
     ]
    }
   ],
   "source": [
    "model_evaluation(feedforward, X_test, y_test)"
   ]
  },
  {
   "cell_type": "markdown",
   "id": "756aa7c9",
   "metadata": {},
   "source": [
    "# Convolutional model"
   ]
  },
  {
   "cell_type": "code",
   "execution_count": 45,
   "id": "07b694d0",
   "metadata": {},
   "outputs": [
    {
     "name": "stdout",
     "output_type": "stream",
     "text": [
      "Model: \"sequential_4\"\n",
      "_________________________________________________________________\n",
      " Layer (type)                Output Shape              Param #   \n",
      "=================================================================\n",
      " conv2d_3 (Conv2D)           (None, 440, 17, 32)       320       \n",
      "                                                                 \n",
      " batch_normalization_3 (Bat  (None, 440, 17, 32)       128       \n",
      " chNormalization)                                                \n",
      "                                                                 \n",
      " max_pooling2d_3 (MaxPoolin  (None, 220, 8, 32)        0         \n",
      " g2D)                                                            \n",
      "                                                                 \n",
      " conv2d_4 (Conv2D)           (None, 220, 8, 64)        18496     \n",
      "                                                                 \n",
      " batch_normalization_4 (Bat  (None, 220, 8, 64)        256       \n",
      " chNormalization)                                                \n",
      "                                                                 \n",
      " max_pooling2d_4 (MaxPoolin  (None, 110, 4, 64)        0         \n",
      " g2D)                                                            \n",
      "                                                                 \n",
      " conv2d_5 (Conv2D)           (None, 110, 4, 128)       204928    \n",
      "                                                                 \n",
      " batch_normalization_5 (Bat  (None, 110, 4, 128)       512       \n",
      " chNormalization)                                                \n",
      "                                                                 \n",
      " max_pooling2d_5 (MaxPoolin  (None, 55, 2, 128)        0         \n",
      " g2D)                                                            \n",
      "                                                                 \n",
      " flatten_4 (Flatten)         (None, 14080)             0         \n",
      "                                                                 \n",
      " dense_22 (Dense)            (None, 1024)              14418944  \n",
      "                                                                 \n",
      " dense_23 (Dense)            (None, 256)               262400    \n",
      "                                                                 \n",
      " dense_24 (Dense)            (None, 64)                16448     \n",
      "                                                                 \n",
      " dense_25 (Dense)            (None, 7)                 455       \n",
      "                                                                 \n",
      "=================================================================\n",
      "Total params: 14922887 (56.93 MB)\n",
      "Trainable params: 14922439 (56.92 MB)\n",
      "Non-trainable params: 448 (1.75 KB)\n",
      "_________________________________________________________________\n"
     ]
    }
   ],
   "source": [
    "cnn = tf.keras.Sequential([\n",
    "# First Convolutional Block with padding\n",
    "  Conv2D(32, (3, 3), activation='relu', input_shape=(440, 17, 1), padding='same'),\n",
    "  BatchNormalization(),\n",
    "  MaxPooling2D((2, 2)),\n",
    "\n",
    "  # Second Convolutional Block with increased filters and padding\n",
    "  Conv2D(64, (3, 3), activation='relu', padding='same'),\n",
    "  BatchNormalization(),\n",
    "  MaxPooling2D((2, 2)),\n",
    "\n",
    "  # Third Convolutional Block with increased filters, kernel size and padding\n",
    "  Conv2D(128, (5, 5), activation='relu', padding='same'),\n",
    "  BatchNormalization(),\n",
    "  MaxPooling2D((2, 2)),\n",
    "\n",
    "\n",
    "  # Flatten layer\n",
    "  Flatten(),\n",
    "\n",
    "  # Dense layers with Dropout for better regularization\n",
    "  Dense(1024, activation='relu'),\n",
    "  Dense(256, activation='relu'),\n",
    "  Dense(64, activation='relu'), \n",
    "  # Final output layer with 7 neurons\n",
    "  Dense(7)\n",
    "])\n",
    "\n",
    "cnn.compile(optimizer='adam', loss='mse', metrics=['mae', 'mse'])\n",
    "cnn.summary()"
   ]
  },
  {
   "cell_type": "code",
   "execution_count": 47,
   "id": "bcfe2313",
   "metadata": {},
   "outputs": [
    {
     "name": "stdout",
     "output_type": "stream",
     "text": [
      "Epoch 1/40\n",
      "133/133 [==============================] - 33s 235ms/step - loss: 8.1999 - mae: 1.1220 - mse: 8.1999 - val_loss: 5.3616 - val_mae: 1.7069 - val_mse: 5.3616\n",
      "Epoch 2/40\n",
      "133/133 [==============================] - 31s 230ms/step - loss: 1.0234 - mae: 0.6892 - mse: 1.0234 - val_loss: 4.9324 - val_mae: 1.6756 - val_mse: 4.9324\n",
      "Epoch 3/40\n",
      "133/133 [==============================] - 31s 231ms/step - loss: 0.8940 - mae: 0.6226 - mse: 0.8940 - val_loss: 3.4215 - val_mae: 1.3026 - val_mse: 3.4215\n",
      "Epoch 4/40\n",
      "133/133 [==============================] - 31s 230ms/step - loss: 0.8412 - mae: 0.5851 - mse: 0.8412 - val_loss: 3.6788 - val_mae: 1.3852 - val_mse: 3.6788\n",
      "Epoch 5/40\n",
      "133/133 [==============================] - 31s 232ms/step - loss: 0.7785 - mae: 0.5535 - mse: 0.7785 - val_loss: 2.7687 - val_mae: 1.0985 - val_mse: 2.7687\n",
      "Epoch 6/40\n",
      "133/133 [==============================] - 31s 232ms/step - loss: 0.7240 - mae: 0.5390 - mse: 0.7240 - val_loss: 1.1709 - val_mae: 0.7927 - val_mse: 1.1709\n",
      "Epoch 7/40\n",
      "133/133 [==============================] - 31s 231ms/step - loss: 0.7622 - mae: 0.5550 - mse: 0.7622 - val_loss: 0.8786 - val_mae: 0.6055 - val_mse: 0.8786\n",
      "Epoch 8/40\n",
      "133/133 [==============================] - 32s 239ms/step - loss: 0.6851 - mae: 0.5123 - mse: 0.6851 - val_loss: 0.7180 - val_mae: 0.5475 - val_mse: 0.7180\n",
      "Epoch 9/40\n",
      "133/133 [==============================] - 31s 233ms/step - loss: 0.6310 - mae: 0.4802 - mse: 0.6310 - val_loss: 0.8851 - val_mae: 0.5550 - val_mse: 0.8851\n",
      "Epoch 10/40\n",
      "133/133 [==============================] - 31s 232ms/step - loss: 0.6192 - mae: 0.4766 - mse: 0.6192 - val_loss: 0.7045 - val_mae: 0.5254 - val_mse: 0.7045\n",
      "Epoch 11/40\n",
      "133/133 [==============================] - 31s 232ms/step - loss: 0.6092 - mae: 0.4750 - mse: 0.6092 - val_loss: 0.6532 - val_mae: 0.4674 - val_mse: 0.6532\n",
      "Epoch 12/40\n",
      "133/133 [==============================] - 31s 233ms/step - loss: 0.5943 - mae: 0.4661 - mse: 0.5943 - val_loss: 0.6679 - val_mae: 0.4798 - val_mse: 0.6679\n",
      "Epoch 13/40\n",
      "133/133 [==============================] - 31s 234ms/step - loss: 0.5596 - mae: 0.4503 - mse: 0.5596 - val_loss: 0.6751 - val_mae: 0.5143 - val_mse: 0.6751\n",
      "Epoch 14/40\n",
      "133/133 [==============================] - 31s 232ms/step - loss: 0.5536 - mae: 0.4512 - mse: 0.5536 - val_loss: 1.0495 - val_mae: 0.6382 - val_mse: 1.0495\n",
      "Epoch 15/40\n",
      "133/133 [==============================] - 31s 232ms/step - loss: 0.5685 - mae: 0.4593 - mse: 0.5685 - val_loss: 0.6633 - val_mae: 0.4955 - val_mse: 0.6633\n",
      "Epoch 16/40\n",
      "133/133 [==============================] - 31s 234ms/step - loss: 0.5318 - mae: 0.4433 - mse: 0.5318 - val_loss: 0.5720 - val_mae: 0.4561 - val_mse: 0.5720\n",
      "Epoch 17/40\n",
      "133/133 [==============================] - 31s 235ms/step - loss: 0.5156 - mae: 0.4299 - mse: 0.5156 - val_loss: 0.9942 - val_mae: 0.5823 - val_mse: 0.9942\n",
      "Epoch 18/40\n",
      "133/133 [==============================] - 31s 233ms/step - loss: 0.5322 - mae: 0.4413 - mse: 0.5322 - val_loss: 0.6915 - val_mae: 0.4958 - val_mse: 0.6915\n",
      "Epoch 19/40\n",
      "133/133 [==============================] - 31s 232ms/step - loss: 0.4983 - mae: 0.4288 - mse: 0.4983 - val_loss: 0.7141 - val_mae: 0.5463 - val_mse: 0.7141\n",
      "Epoch 20/40\n",
      "133/133 [==============================] - 31s 233ms/step - loss: 0.5187 - mae: 0.4391 - mse: 0.5187 - val_loss: 0.7448 - val_mae: 0.5575 - val_mse: 0.7448\n",
      "Epoch 21/40\n",
      "133/133 [==============================] - ETA: 0s - loss: 0.5130 - mae: 0.4274 - mse: 0.5130Restoring model weights from the end of the best epoch: 16.\n",
      "133/133 [==============================] - 31s 232ms/step - loss: 0.5130 - mae: 0.4274 - mse: 0.5130 - val_loss: 0.9352 - val_mae: 0.5972 - val_mse: 0.9352\n",
      "Epoch 21: early stopping\n"
     ]
    }
   ],
   "source": [
    "# Train the model\n",
    "early_stopping = EarlyStopping(monitor='val_loss', patience=5, verbose=1, restore_best_weights=True)\n",
    "history = cnn.fit(X_train, y_train, validation_data=(X_validation, y_validation), epochs=40, verbose = 1, callbacks=[early_stopping])"
   ]
  },
  {
   "cell_type": "code",
   "execution_count": 48,
   "id": "521ecacd-a9a5-4caf-aaa7-74879052211b",
   "metadata": {},
   "outputs": [
    {
     "data": {
      "image/png": "[encoded data removed]",
      "text/plain": [
       "<Figure size 640x480 with 1 Axes>"
      ]
     },
     "metadata": {},
     "output_type": "display_data"
    }
   ],
   "source": [
    "plot_metrics(history, 'loss')"
   ]
  },
  {
   "cell_type": "code",
   "execution_count": 49,
   "id": "81e66508-bc9c-47fe-8a5a-bf9af93c10ea",
   "metadata": {},
   "outputs": [
    {
     "name": "stdout",
     "output_type": "stream",
     "text": [
      "45/45 [==============================] - 2s 43ms/step - loss: 0.5614 - mae: 0.4556 - mse: 0.5614\n",
      "Test mae: 0.4555557370185852\n",
      "Test mse: 0.5613623857498169\n",
      "1/1 [==============================] - 0s 129ms/step\n",
      "\n",
      "\n",
      "Random prediction examples\n",
      "Parameters:\tcx\tcy\ta\tb\ttheta\te1\te2\n",
      "------------\n",
      "real:\t\t 1.666\t4.713\t1.343\t1.126\t0.475\t1.336\t6.544\n",
      "prediction:\t 2.091\t5.161\t1.555\t1.050\t0.140\t1.206\t6.333\n",
      "------------\n",
      "real:\t\t 0.438\t5.417\t0.643\t0.265\t0.181\t3.047\t7.502\n",
      "prediction:\t 0.204\t5.217\t0.963\t0.323\t0.199\t3.239\t3.482\n",
      "------------\n",
      "real:\t\t 0.644\t3.594\t2.021\t0.654\t0.450\t4.522\t3.774\n",
      "prediction:\t 1.058\t3.793\t2.109\t0.922\t0.403\t3.430\t3.813\n",
      "------------\n",
      "real:\t\t -0.114\t4.270\t0.995\t0.403\t0.237\t1.449\t5.253\n",
      "prediction:\t 0.129\t4.607\t1.204\t0.235\t0.126\t1.591\t5.528\n",
      "------------\n",
      "real:\t\t 0.394\t2.981\t1.678\t0.811\t-0.408\t1.934\t7.187\n",
      "prediction:\t 0.637\t2.891\t1.704\t0.968\t-0.371\t1.347\t5.071\n"
     ]
    }
   ],
   "source": [
    "model_evaluation(cnn, X_test, y_test,)"
   ]
  },
  {
   "cell_type": "markdown",
   "id": "61aa97cf",
   "metadata": {},
   "source": [
    "# Recurrent Neural Network with simple RNN layer"
   ]
  },
  {
   "cell_type": "code",
   "execution_count": 50,
   "id": "14e41d59",
   "metadata": {},
   "outputs": [
    {
     "name": "stdout",
     "output_type": "stream",
     "text": [
      "Model: \"sequential_5\"\n",
      "_________________________________________________________________\n",
      " Layer (type)                Output Shape              Param #   \n",
      "=================================================================\n",
      " simple_rnn (SimpleRNN)      (None, 440, 512)          271360    \n",
      "                                                                 \n",
      " simple_rnn_1 (SimpleRNN)    (None, 256)               196864    \n",
      "                                                                 \n",
      " dense_26 (Dense)            (None, 128)               32896     \n",
      "                                                                 \n",
      " dense_27 (Dense)            (None, 64)                8256      \n",
      "                                                                 \n",
      " dense_28 (Dense)            (None, 7)                 455       \n",
      "                                                                 \n",
      "=================================================================\n",
      "Total params: 509831 (1.94 MB)\n",
      "Trainable params: 509831 (1.94 MB)\n",
      "Non-trainable params: 0 (0.00 Byte)\n",
      "_________________________________________________________________\n"
     ]
    }
   ],
   "source": [
    "rnn = tf.keras.Sequential([\n",
    "    SimpleRNN(512, input_shape=(440, 17), return_sequences=True),\n",
    "    SimpleRNN(256),\n",
    "    Dense(128, activation='relu'),\n",
    "    Dense(64, activation='relu'),\n",
    "    Dense(7)\n",
    "])\n",
    "\n",
    "rnn.compile(optimizer='adam', loss='mse', metrics=['mae', 'mse'])\n",
    "rnn.summary()"
   ]
  },
  {
   "cell_type": "code",
   "execution_count": 51,
   "id": "37f2cb16",
   "metadata": {},
   "outputs": [
    {
     "name": "stdout",
     "output_type": "stream",
     "text": [
      "Epoch 1/40\n",
      "133/133 [==============================] - 58s 423ms/step - loss: 1.6833 - mae: 0.8991 - mse: 1.6833 - val_loss: 1.4679 - val_mae: 0.8309 - val_mse: 1.4679\n",
      "Epoch 2/40\n",
      "133/133 [==============================] - 55s 414ms/step - loss: 1.4663 - mae: 0.8422 - mse: 1.4663 - val_loss: 1.4559 - val_mae: 0.8288 - val_mse: 1.4559\n",
      "Epoch 3/40\n",
      "133/133 [==============================] - 55s 416ms/step - loss: 1.4670 - mae: 0.8413 - mse: 1.4670 - val_loss: 1.4979 - val_mae: 0.8411 - val_mse: 1.4979\n",
      "Epoch 4/40\n",
      "133/133 [==============================] - 56s 418ms/step - loss: 1.4661 - mae: 0.8412 - mse: 1.4661 - val_loss: 1.4837 - val_mae: 0.8366 - val_mse: 1.4837\n",
      "Epoch 5/40\n",
      "133/133 [==============================] - 57s 425ms/step - loss: 1.4605 - mae: 0.8384 - mse: 1.4605 - val_loss: 1.4908 - val_mae: 0.8434 - val_mse: 1.4908\n",
      "Epoch 6/40\n",
      "133/133 [==============================] - 55s 418ms/step - loss: 1.4519 - mae: 0.8368 - mse: 1.4519 - val_loss: 1.4520 - val_mae: 0.8292 - val_mse: 1.4520\n",
      "Epoch 7/40\n",
      "133/133 [==============================] - 55s 417ms/step - loss: 1.4545 - mae: 0.8372 - mse: 1.4545 - val_loss: 1.4585 - val_mae: 0.8316 - val_mse: 1.4585\n",
      "Epoch 8/40\n",
      "133/133 [==============================] - 55s 417ms/step - loss: 1.4574 - mae: 0.8397 - mse: 1.4574 - val_loss: 1.4579 - val_mae: 0.8287 - val_mse: 1.4579\n",
      "Epoch 9/40\n",
      "133/133 [==============================] - 56s 419ms/step - loss: 1.4645 - mae: 0.8393 - mse: 1.4645 - val_loss: 1.4935 - val_mae: 0.8405 - val_mse: 1.4935\n",
      "Epoch 10/40\n",
      "133/133 [==============================] - 56s 420ms/step - loss: 1.4603 - mae: 0.8389 - mse: 1.4603 - val_loss: 1.4587 - val_mae: 0.8351 - val_mse: 1.4587\n",
      "Epoch 11/40\n",
      "133/133 [==============================] - ETA: 0s - loss: 1.4541 - mae: 0.8375 - mse: 1.4541Restoring model weights from the end of the best epoch: 6.\n",
      "133/133 [==============================] - 56s 421ms/step - loss: 1.4541 - mae: 0.8375 - mse: 1.4541 - val_loss: 1.4544 - val_mae: 0.8278 - val_mse: 1.4544\n",
      "Epoch 11: early stopping\n"
     ]
    }
   ],
   "source": [
    "# Train the model\n",
    "early_stopping = EarlyStopping(monitor='val_loss', patience=5, verbose=1, restore_best_weights=True)\n",
    "history = rnn.fit(X_train, y_train, validation_data=(X_validation, y_validation), epochs=40, verbose = 1, callbacks=[early_stopping])"
   ]
  },
  {
   "cell_type": "code",
   "execution_count": 52,
   "id": "9ca14731",
   "metadata": {},
   "outputs": [
    {
     "data": {
      "image/png": "[encoded data removed]",
      "text/plain": [
       "<Figure size 640x480 with 1 Axes>"
      ]
     },
     "metadata": {},
     "output_type": "display_data"
    }
   ],
   "source": [
    "plot_metrics(history, 'loss')"
   ]
  },
  {
   "cell_type": "code",
   "execution_count": 53,
   "id": "25c3bf60",
   "metadata": {},
   "outputs": [
    {
     "name": "stdout",
     "output_type": "stream",
     "text": [
      "45/45 [==============================] - 7s 154ms/step - loss: 1.4301 - mae: 0.8244 - mse: 1.4301\n",
      "Test mae: 0.82444167137146\n",
      "Test mse: 1.4300614595413208\n",
      "WARNING:tensorflow:5 out of the last 5 calls to <function Model.make_predict_function.<locals>.predict_function at 0x0000023E597B8CC0> triggered tf.function retracing. Tracing is expensive and the excessive number of tracings could be due to (1) creating @tf.function repeatedly in a loop, (2) passing tensors with different shapes, (3) passing Python objects instead of tensors. For (1), please define your @tf.function outside of the loop. For (2), @tf.function has reduce_retracing=True option that can avoid unnecessary retracing. For (3), please refer to https://www.tensorflow.org/guide/function#controlling_retracing and https://www.tensorflow.org/api_docs/python/tf/function for  more details.\n",
      "1/1 [==============================] - 0s 320ms/step\n",
      "\n",
      "\n",
      "Random prediction examples\n",
      "Parameters:\tcx\tcy\ta\tb\ttheta\te1\te2\n",
      "------------\n",
      "real:\t\t 1.532\t3.774\t2.034\t0.272\t0.266\t2.737\t3.284\n",
      "prediction:\t 0.277\t3.538\t1.300\t0.517\t0.183\t2.640\t4.166\n",
      "------------\n",
      "real:\t\t 1.392\t4.172\t1.497\t0.793\t0.679\t0.430\t4.179\n",
      "prediction:\t 0.277\t3.538\t1.300\t0.517\t0.183\t2.640\t4.166\n",
      "------------\n",
      "real:\t\t 0.949\t2.186\t1.636\t0.650\t0.552\t0.101\t4.052\n",
      "prediction:\t 0.277\t3.538\t1.300\t0.517\t0.183\t2.640\t4.166\n",
      "------------\n",
      "real:\t\t 0.440\t4.961\t1.237\t0.775\t-0.585\t1.431\t0.658\n",
      "prediction:\t 0.277\t3.538\t1.300\t0.517\t0.183\t2.640\t4.166\n",
      "------------\n",
      "real:\t\t -0.318\t2.314\t0.592\t0.324\t0.403\t1.349\t7.563\n",
      "prediction:\t 0.277\t3.538\t1.300\t0.517\t0.183\t2.640\t4.166\n"
     ]
    }
   ],
   "source": [
    "model_evaluation(rnn, X_test, y_test)"
   ]
  },
  {
   "cell_type": "markdown",
   "id": "22e08b49",
   "metadata": {},
   "source": [
    "#  Recurrent Neural Network Model with LSTM"
   ]
  },
  {
   "cell_type": "code",
   "execution_count": 54,
   "id": "cf9e46d1",
   "metadata": {},
   "outputs": [
    {
     "name": "stdout",
     "output_type": "stream",
     "text": [
      "Model: \"sequential_6\"\n",
      "_________________________________________________________________\n",
      " Layer (type)                Output Shape              Param #   \n",
      "=================================================================\n",
      " lstm (LSTM)                 (None, 512)               1085440   \n",
      "                                                                 \n",
      " dense_29 (Dense)            (None, 256)               131328    \n",
      "                                                                 \n",
      " dense_30 (Dense)            (None, 128)               32896     \n",
      "                                                                 \n",
      " dense_31 (Dense)            (None, 64)                8256      \n",
      "                                                                 \n",
      " dense_32 (Dense)            (None, 7)                 455       \n",
      "                                                                 \n",
      "=================================================================\n",
      "Total params: 1258375 (4.80 MB)\n",
      "Trainable params: 1258375 (4.80 MB)\n",
      "Non-trainable params: 0 (0.00 Byte)\n",
      "_________________________________________________________________\n"
     ]
    }
   ],
   "source": [
    "rnn_lstm = tf.keras.Sequential([\n",
    "    LSTM(512, input_shape=(440, 17)),\n",
    "    Dense(256, activation='relu'),\n",
    "    Dense(128, activation='relu'),\n",
    "    Dense(64, activation='relu'),\n",
    "    Dense(7)\n",
    "])\n",
    "\n",
    "rnn_lstm.compile(optimizer='adam', loss='mse', metrics=['mae', 'mse'])\n",
    "rnn_lstm.summary()"
   ]
  },
  {
   "cell_type": "code",
   "execution_count": null,
   "id": "88f37fc7",
   "metadata": {},
   "outputs": [
    {
     "name": "stdout",
     "output_type": "stream",
     "text": [
      "Epoch 1/20\n",
      "133/133 [==============================] - 149s 1s/step - loss: 1.6882 - mae: 0.8890 - mse: 1.6882 - val_loss: 1.4810 - val_mae: 0.8402 - val_mse: 1.4810\n",
      "Epoch 2/20\n",
      "133/133 [==============================] - 146s 1s/step - loss: 1.4838 - mae: 0.8446 - mse: 1.4838 - val_loss: 1.4743 - val_mae: 0.8318 - val_mse: 1.4743\n",
      "Epoch 3/20\n",
      "133/133 [==============================] - 146s 1s/step - loss: 1.4585 - mae: 0.8403 - mse: 1.4585 - val_loss: 1.4853 - val_mae: 0.8413 - val_mse: 1.4853\n",
      "Epoch 4/20\n",
      "133/133 [==============================] - 142s 1s/step - loss: 1.4559 - mae: 0.8387 - mse: 1.4559 - val_loss: 1.4441 - val_mae: 0.8292 - val_mse: 1.4441\n",
      "Epoch 5/20\n",
      "133/133 [==============================] - 141s 1s/step - loss: 1.4088 - mae: 0.8249 - mse: 1.4088 - val_loss: 1.3528 - val_mae: 0.8024 - val_mse: 1.3528\n",
      "Epoch 6/20\n",
      "133/133 [==============================] - 140s 1s/step - loss: 1.3442 - mae: 0.8029 - mse: 1.3442 - val_loss: 1.3402 - val_mae: 0.7950 - val_mse: 1.3402\n",
      "Epoch 7/20\n",
      "133/133 [==============================] - 135s 1s/step - loss: 1.2980 - mae: 0.7893 - mse: 1.2980 - val_loss: 1.2434 - val_mae: 0.7701 - val_mse: 1.2434\n",
      "Epoch 8/20\n",
      "133/133 [==============================] - 137s 1s/step - loss: 1.2594 - mae: 0.7767 - mse: 1.2594 - val_loss: 1.2488 - val_mae: 0.7686 - val_mse: 1.2488\n",
      "Epoch 9/20\n",
      "133/133 [==============================] - 135s 1s/step - loss: 1.2466 - mae: 0.7720 - mse: 1.2466 - val_loss: 1.2222 - val_mae: 0.7663 - val_mse: 1.2222\n",
      "Epoch 10/20\n",
      "133/133 [==============================] - 29756s 225s/step - loss: 1.2359 - mae: 0.7704 - mse: 1.2359 - val_loss: 1.2499 - val_mae: 0.7747 - val_mse: 1.2499\n",
      "Epoch 11/20\n",
      "133/133 [==============================] - 17563s 133s/step - loss: 1.2311 - mae: 0.7677 - mse: 1.2311 - val_loss: 1.1799 - val_mae: 0.7497 - val_mse: 1.1799\n",
      "Epoch 12/20\n",
      "133/133 [==============================] - 155s 1s/step - loss: 1.2000 - mae: 0.7593 - mse: 1.2000 - val_loss: 1.1991 - val_mae: 0.7548 - val_mse: 1.1991\n",
      "Epoch 13/20\n",
      "133/133 [==============================] - 145s 1s/step - loss: 1.2026 - mae: 0.7582 - mse: 1.2026 - val_loss: 1.1919 - val_mae: 0.7515 - val_mse: 1.1919\n",
      "Epoch 14/20\n",
      "133/133 [==============================] - 143s 1s/step - loss: 1.1813 - mae: 0.7516 - mse: 1.1813 - val_loss: 1.1579 - val_mae: 0.7383 - val_mse: 1.1579\n",
      "Epoch 15/20\n",
      "133/133 [==============================] - 159s 1s/step - loss: 1.1736 - mae: 0.7486 - mse: 1.1736 - val_loss: 1.1510 - val_mae: 0.7347 - val_mse: 1.1510\n",
      "Epoch 16/20\n",
      "133/133 [==============================] - 172s 1s/step - loss: 1.1703 - mae: 0.7483 - mse: 1.1703 - val_loss: 1.1391 - val_mae: 0.7310 - val_mse: 1.1391\n",
      "Epoch 17/20\n",
      "133/133 [==============================] - 172s 1s/step - loss: 1.1926 - mae: 0.7553 - mse: 1.1926 - val_loss: 1.3731 - val_mae: 0.7798 - val_mse: 1.3731\n",
      "Epoch 18/20\n",
      " 58/133 [============>.................] - ETA: 1:39 - loss: 1.2471 - mae: 0.7730 - mse: 1.2471"
     ]
    }
   ],
   "source": [
    "# Train the model\n",
    "early_stopping = EarlyStopping(monitor='val_loss', patience=5, verbose=1, restore_best_weights=True)\n",
    "history = rnn_lstm.fit(X_train, y_train, validation_data=(X_validation, y_validation), epochs=20, verbose = 1, callbacks=[early_stopping])"
   ]
  },
  {
   "cell_type": "code",
   "execution_count": null,
   "id": "24c9f7ee",
   "metadata": {},
   "outputs": [],
   "source": [
    "plot_metrics(history, 'loss')"
   ]
  },
  {
   "cell_type": "code",
   "execution_count": null,
   "id": "8f27c12a",
   "metadata": {},
   "outputs": [],
   "source": [
    "model_evaluation(rnn_lstm, X_test, y_test,)"
   ]
  },
  {
   "cell_type": "code",
   "execution_count": null,
   "id": "1c3bb3f3-94d7-4f2e-a65a-bcbf8a971917",
   "metadata": {},
   "outputs": [],
   "source": []
  },
  {
   "cell_type": "code",
   "execution_count": null,
   "id": "899019ca-af6f-4f5b-8889-09a8e31a31cb",
   "metadata": {},
   "outputs": [],
   "source": []
  }
 ],
 "metadata": {
  "kernelspec": {
   "display_name": "Python 3 (ipykernel)",
   "language": "python",
   "name": "python3"
  },
  "language_info": {
   "codemirror_mode": {
    "name": "ipython",
    "version": 3
   },
   "file_extension": ".py",
   "mimetype": "text/x-python",
   "name": "python",
   "nbconvert_exporter": "python",
   "pygments_lexer": "ipython3",
   "version": "3.11.7"
  }
 },
 "nbformat": 4,
 "nbformat_minor": 5
}
